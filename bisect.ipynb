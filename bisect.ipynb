{
  "nbformat": 4,
  "nbformat_minor": 0,
  "metadata": {
    "colab": {
      "name": "bisect.ipynb",
      "provenance": [],
      "authorship_tag": "ABX9TyP9xlbLrLYEf5y6a25eeMoD",
      "include_colab_link": true
    },
    "kernelspec": {
      "name": "python3",
      "display_name": "Python 3"
    },
    "language_info": {
      "name": "python"
    }
  },
  "cells": [
    {
      "cell_type": "markdown",
      "metadata": {
        "id": "view-in-github",
        "colab_type": "text"
      },
      "source": [
        "<a href=\"https://colab.research.google.com/github/sw6820/Algorithm_python/blob/main/bisect.ipynb\" target=\"_parent\"><img src=\"https://colab.research.google.com/assets/colab-badge.svg\" alt=\"Open In Colab\"/></a>"
      ]
    },
    {
      "cell_type": "markdown",
      "metadata": {
        "id": "lxM3VDSjC7eU"
      },
      "source": [
        "```python\n",
        "\"\"\"Bisection algorithms.\"\"\"\n",
        "\n",
        "\n",
        "def insort_right(a, x, lo=0, hi=None, *, key=None):\n",
        "    \"\"\"Insert item x in list a, and keep it sorted assuming a is sorted.\n",
        "\n",
        "    If x is already in a, insert it to the right of the rightmost x.\n",
        "\n",
        "    Optional args lo (default 0) and hi (default len(a)) bound the\n",
        "    slice of a to be searched.\n",
        "    \"\"\"\n",
        "    if key is None:\n",
        "        lo = bisect_right(a, x, lo, hi)\n",
        "    else:\n",
        "        lo = bisect_right(a, key(x), lo, hi, key=key)\n",
        "    a.insert(lo, x)\n",
        "\n",
        "\n",
        "def bisect_right(a, x, lo=0, hi=None, *, key=None):\n",
        "    \"\"\"Return the index where to insert item x in list a, assuming a is sorted.\n",
        "\n",
        "    The return value i is such that all e in a[:i] have e <= x, and all e in\n",
        "    a[i:] have e > x.  So if x already appears in the list, a.insert(i, x) will\n",
        "    insert just after the rightmost x already there.\n",
        "\n",
        "    Optional args lo (default 0) and hi (default len(a)) bound the\n",
        "    slice of a to be searched.\n",
        "    \"\"\"\n",
        "\n",
        "    if lo < 0:\n",
        "        raise ValueError('lo must be non-negative')\n",
        "    if hi is None:\n",
        "        hi = len(a)\n",
        "    # Note, the comparison uses \"<\" to match the\n",
        "    # __lt__() logic in list.sort() and in heapq.\n",
        "    if key is None:\n",
        "        while lo < hi:\n",
        "            mid = (lo + hi) // 2\n",
        "            if x < a[mid]:\n",
        "                hi = mid\n",
        "            else:\n",
        "                lo = mid + 1\n",
        "    else:\n",
        "        while lo < hi:\n",
        "            mid = (lo + hi) // 2\n",
        "            if x < key(a[mid]):\n",
        "                hi = mid\n",
        "            else:\n",
        "                lo = mid + 1\n",
        "    return lo\n",
        "\n",
        "\n",
        "def insort_left(a, x, lo=0, hi=None, *, key=None):\n",
        "    \"\"\"Insert item x in list a, and keep it sorted assuming a is sorted.\n",
        "\n",
        "    If x is already in a, insert it to the left of the leftmost x.\n",
        "\n",
        "    Optional args lo (default 0) and hi (default len(a)) bound the\n",
        "    slice of a to be searched.\n",
        "    \"\"\"\n",
        "\n",
        "    if key is None:\n",
        "        lo = bisect_left(a, x, lo, hi)\n",
        "    else:\n",
        "        lo = bisect_left(a, key(x), lo, hi, key=key)\n",
        "    a.insert(lo, x)\n",
        "\n",
        "def bisect_left(a, x, lo=0, hi=None, *, key=None):\n",
        "    \"\"\"Return the index where to insert item x in list a, assuming a is sorted.\n",
        "\n",
        "    The return value i is such that all e in a[:i] have e < x, and all e in\n",
        "    a[i:] have e >= x.  So if x already appears in the list, a.insert(i, x) will\n",
        "    insert just before the leftmost x already there.\n",
        "\n",
        "    Optional args lo (default 0) and hi (default len(a)) bound the\n",
        "    slice of a to be searched.\n",
        "    \"\"\"\n",
        "\n",
        "    if lo < 0:\n",
        "        raise ValueError('lo must be non-negative')\n",
        "    if hi is None:\n",
        "        hi = len(a)\n",
        "    # Note, the comparison uses \"<\" to match the\n",
        "    # __lt__() logic in list.sort() and in heapq.\n",
        "    if key is None:\n",
        "        while lo < hi:\n",
        "            mid = (lo + hi) // 2\n",
        "            if a[mid] < x:\n",
        "                lo = mid + 1\n",
        "            else:\n",
        "                hi = mid\n",
        "    else:\n",
        "        while lo < hi:\n",
        "            mid = (lo + hi) // 2\n",
        "            if key(a[mid]) < x:\n",
        "                lo = mid + 1\n",
        "            else:\n",
        "                hi = mid\n",
        "    return lo\n",
        "\n",
        "\n",
        "# Overwrite above definitions with a fast C implementation\n",
        "try:\n",
        "    from _bisect import *\n",
        "except ImportError:\n",
        "    pass\n",
        "\n",
        "# Create aliases\n",
        "bisect = bisect_right\n",
        "insort = insort_right\n",
        "```"
      ]
    },
    {
      "cell_type": "code",
      "metadata": {
        "id": "nxXKtnu29lEB"
      },
      "source": [
        "import bisect"
      ],
      "execution_count": null,
      "outputs": []
    },
    {
      "cell_type": "code",
      "metadata": {
        "id": "GJzQYp3i9nqD"
      },
      "source": [
        "num_list = [100, 98, 1000, 1, 2, 5, 6, 8, 9, 9, 9, 10, 12, 15]\n",
        "sorted_list = sorted(num_list)"
      ],
      "execution_count": null,
      "outputs": []
    },
    {
      "cell_type": "code",
      "metadata": {
        "colab": {
          "base_uri": "https://localhost:8080/"
        },
        "id": "bUJ2K-Yk90To",
        "outputId": "3d991ea5-f225-4d0e-e2d6-6e869fe5ffbd"
      },
      "source": [
        "num_list"
      ],
      "execution_count": null,
      "outputs": [
        {
          "output_type": "execute_result",
          "data": {
            "text/plain": [
              "[100, 98, 1000, 1, 2, 5, 6, 8, 9, 9, 9, 10, 12, 15]"
            ]
          },
          "metadata": {},
          "execution_count": 5
        }
      ]
    },
    {
      "cell_type": "code",
      "metadata": {
        "colab": {
          "base_uri": "https://localhost:8080/"
        },
        "id": "I6p9seAe91JO",
        "outputId": "63f156e1-ba47-42a6-d455-e4ca9fc92fff"
      },
      "source": [
        "sorted_list"
      ],
      "execution_count": null,
      "outputs": [
        {
          "output_type": "execute_result",
          "data": {
            "text/plain": [
              "[1, 2, 5, 6, 8, 9, 9, 9, 10, 12, 15, 98, 100, 1000]"
            ]
          },
          "metadata": {},
          "execution_count": 6
        }
      ]
    },
    {
      "cell_type": "code",
      "metadata": {
        "id": "bAJNt-HI94Fr"
      },
      "source": [
        "num = 9"
      ],
      "execution_count": null,
      "outputs": []
    },
    {
      "cell_type": "markdown",
      "metadata": {
        "id": "G6AzyDAq_7_D"
      },
      "source": [
        "```python\n",
        "def bisect_left(a, x, lo=0, hi=None, *, key=None):\n",
        "    \"\"\"Return the index where to insert item x in list a, assuming a is sorted.\n",
        "    The return value i is such that all e in a[:i] have e < x, and all e in\n",
        "    a[i:] have e >= x.  So if x already appears in the list, a.insert(i, x) will\n",
        "    insert just before the leftmost x already there.\n",
        "    Optional args lo (default 0) and hi (default len(a)) bound the\n",
        "    slice of a to be searched.\n",
        "    \"\"\"\n",
        "\n",
        "    if lo < 0:\n",
        "        raise ValueError('lo must be non-negative')\n",
        "    if hi is None:\n",
        "        hi = len(a)\n",
        "    # Note, the comparison uses \"<\" to match the\n",
        "    # __lt__() logic in list.sort() and in heapq.\n",
        "    if key is None:\n",
        "        while lo < hi:\n",
        "            mid = (lo + hi) // 2\n",
        "            if a[mid] < x:\n",
        "                lo = mid + 1\n",
        "            else:\n",
        "                hi = mid\n",
        "    else:\n",
        "        while lo < hi:\n",
        "            mid = (lo + hi) // 2\n",
        "            if key(a[mid]) < x:\n",
        "                lo = mid + 1\n",
        "            else:\n",
        "                hi = mid\n",
        "    return lo\n",
        "```\n"
      ]
    },
    {
      "cell_type": "code",
      "metadata": {
        "colab": {
          "base_uri": "https://localhost:8080/"
        },
        "id": "a2XEGiLb96M6",
        "outputId": "22e08e78-15d5-4e1e-b572-6292956273fb"
      },
      "source": [
        "bisect.bisect_left(sorted_list, num)"
      ],
      "execution_count": null,
      "outputs": [
        {
          "output_type": "execute_result",
          "data": {
            "text/plain": [
              "5"
            ]
          },
          "metadata": {},
          "execution_count": 9
        }
      ]
    },
    {
      "cell_type": "markdown",
      "metadata": {
        "id": "ikrR9yo8ACF7"
      },
      "source": [
        "```python\n",
        "def bisect_right(a, x, lo=0, hi=None, *, key=None):\n",
        "    \"\"\"Return the index where to insert item x in list a, assuming a is sorted.\n",
        "    The return value i is such that all e in a[:i] have e <= x, and all e in\n",
        "    a[i:] have e > x.  So if x already appears in the list, a.insert(i, x) will\n",
        "    insert just after the rightmost x already there.\n",
        "    Optional args lo (default 0) and hi (default len(a)) bound the\n",
        "    slice of a to be searched.\n",
        "    \"\"\"\n",
        "\n",
        "    if lo < 0:\n",
        "        raise ValueError('lo must be non-negative')\n",
        "    if hi is None:\n",
        "        hi = len(a)\n",
        "    # Note, the comparison uses \"<\" to match the\n",
        "    # __lt__() logic in list.sort() and in heapq.\n",
        "    if key is None:\n",
        "        while lo < hi:\n",
        "            mid = (lo + hi) // 2\n",
        "            if x < a[mid]:\n",
        "                hi = mid\n",
        "            else:\n",
        "                lo = mid + 1\n",
        "    else:\n",
        "        while lo < hi:\n",
        "            mid = (lo + hi) // 2\n",
        "            if x < key(a[mid]):\n",
        "                hi = mid\n",
        "            else:\n",
        "                lo = mid + 1\n",
        "    return lo\n",
        "```    "
      ]
    },
    {
      "cell_type": "code",
      "metadata": {
        "colab": {
          "base_uri": "https://localhost:8080/"
        },
        "id": "CgA86Ldk-BmD",
        "outputId": "f732c394-7852-49ff-b958-1656155532cc"
      },
      "source": [
        "bisect.bisect_right(sorted_list, num)"
      ],
      "execution_count": null,
      "outputs": [
        {
          "output_type": "execute_result",
          "data": {
            "text/plain": [
              "8"
            ]
          },
          "metadata": {},
          "execution_count": 10
        }
      ]
    },
    {
      "cell_type": "markdown",
      "metadata": {
        "id": "fNRP0-OiAJk6"
      },
      "source": [
        "```python\n",
        "bisect = bisect_right\n",
        "```"
      ]
    },
    {
      "cell_type": "code",
      "metadata": {
        "colab": {
          "base_uri": "https://localhost:8080/"
        },
        "id": "c52IWYo7-Gss",
        "outputId": "d8fe665b-64e4-4046-9e39-c95c31984fb5"
      },
      "source": [
        "bisect.bisect(sorted_list, num)"
      ],
      "execution_count": null,
      "outputs": [
        {
          "output_type": "execute_result",
          "data": {
            "text/plain": [
              "8"
            ]
          },
          "metadata": {},
          "execution_count": 12
        }
      ]
    },
    {
      "cell_type": "code",
      "metadata": {
        "colab": {
          "base_uri": "https://localhost:8080/"
        },
        "id": "mQ2ILt-a-LIW",
        "outputId": "cd09489f-8d38-49f6-ef04-b83fa149a489"
      },
      "source": [
        "bisect.bisect_left(num_list, num)"
      ],
      "execution_count": null,
      "outputs": [
        {
          "output_type": "execute_result",
          "data": {
            "text/plain": [
              "8"
            ]
          },
          "metadata": {},
          "execution_count": 13
        }
      ]
    },
    {
      "cell_type": "code",
      "metadata": {
        "colab": {
          "base_uri": "https://localhost:8080/"
        },
        "id": "GCX8eCk3-a6E",
        "outputId": "6546531e-33b0-4599-a2eb-adbafce1c6d8"
      },
      "source": [
        "bisect.bisect_right(num_list, num)"
      ],
      "execution_count": null,
      "outputs": [
        {
          "output_type": "execute_result",
          "data": {
            "text/plain": [
              "11"
            ]
          },
          "metadata": {},
          "execution_count": 15
        }
      ]
    },
    {
      "cell_type": "markdown",
      "metadata": {
        "id": "ylFtosV9HShM"
      },
      "source": [
        "### bisect_left vs bisect_right\n",
        "#### bisect_left\n",
        "```python\n",
        "if a[mid] < x:\n",
        "    lo = mid + 1\n",
        "else:\n",
        "    hi = mid\n",
        "```\n",
        "#### bisect_right\n",
        "```python\n",
        "if x < a[mid]:\n",
        "    hi = mid\n",
        "else:\n",
        "    lo = mid + 1\n",
        "```                \n",
        "#### bisect_right same code\n",
        "```python\n",
        "if a[mid] <= x:\n",
        "    lo = mid +1\n",
        "else:\n",
        "    hi = mid\n",
        "```\n",
        "\n",
        "```python\n",
        "# a[mid] == x \n",
        "if bisect_left : hi = mid # change hi\n",
        "if bisect_right : lo = mid + 1 # change lo\n",
        "```\n"
      ]
    },
    {
      "cell_type": "markdown",
      "metadata": {
        "id": "-xrB4TAZASp5"
      },
      "source": [
        "\n",
        "```python\n",
        "def insort_left(a, x, lo=0, hi=None, *, key=None):\n",
        "    \"\"\"Insert item x in list a, and keep it sorted assuming a is sorted.\n",
        "    If x is already in a, insert it to the left of the leftmost x.\n",
        "    Optional args lo (default 0) and hi (default len(a)) bound the\n",
        "    slice of a to be searched.\n",
        "    \"\"\"\n",
        "\n",
        "    if key is None:\n",
        "        lo = bisect_left(a, x, lo, hi)\n",
        "    else:\n",
        "        lo = bisect_left(a, key(x), lo, hi, key=key)\n",
        "    a.insert(lo, x)\n",
        "```    "
      ]
    },
    {
      "cell_type": "code",
      "metadata": {
        "id": "oCpX-HEm-eb2"
      },
      "source": [
        "bisect.insort_left(sorted_list, num)"
      ],
      "execution_count": null,
      "outputs": []
    },
    {
      "cell_type": "code",
      "metadata": {
        "colab": {
          "base_uri": "https://localhost:8080/"
        },
        "id": "haYUUIKp_I1i",
        "outputId": "81c3ae43-a4c5-48e6-e46e-0669e1feca4a"
      },
      "source": [
        "sorted_list"
      ],
      "execution_count": null,
      "outputs": [
        {
          "output_type": "execute_result",
          "data": {
            "text/plain": [
              "[1, 2, 5, 6, 8, 9, 9, 9, 9, 10, 12, 15, 98, 100, 1000]"
            ]
          },
          "metadata": {},
          "execution_count": 18
        }
      ]
    },
    {
      "cell_type": "markdown",
      "metadata": {
        "id": "f6cgc81aCzEX"
      },
      "source": [
        "```python\n",
        "def insort_right(a, x, lo=0, hi=None, *, key=None):\n",
        "    \"\"\"Insert item x in list a, and keep it sorted assuming a is sorted.\n",
        "    If x is already in a, insert it to the right of the rightmost x.\n",
        "    Optional args lo (default 0) and hi (default len(a)) bound the\n",
        "    slice of a to be searched.\n",
        "    \"\"\"\n",
        "    if key is None:\n",
        "        lo = bisect_right(a, x, lo, hi)\n",
        "    else:\n",
        "        lo = bisect_right(a, key(x), lo, hi, key=key)\n",
        "    a.insert(lo, x)\n",
        "```    "
      ]
    },
    {
      "cell_type": "code",
      "metadata": {
        "id": "DMV1G9o9_NSg"
      },
      "source": [
        "bisect.insort_right(sorted_list, num)"
      ],
      "execution_count": null,
      "outputs": []
    },
    {
      "cell_type": "code",
      "metadata": {
        "colab": {
          "base_uri": "https://localhost:8080/"
        },
        "id": "Dc1fmA6S_Q0X",
        "outputId": "bcaf890f-7222-4420-f803-768ed05eec80"
      },
      "source": [
        "sorted_list"
      ],
      "execution_count": null,
      "outputs": [
        {
          "output_type": "execute_result",
          "data": {
            "text/plain": [
              "[1, 2, 5, 6, 8, 9, 9, 9, 9, 9, 10, 12, 15, 98, 100, 1000]"
            ]
          },
          "metadata": {},
          "execution_count": 20
        }
      ]
    },
    {
      "cell_type": "markdown",
      "metadata": {
        "id": "yX-zjr4GC3sc"
      },
      "source": [
        "```python\n",
        "insort = insort_right\n",
        "```"
      ]
    },
    {
      "cell_type": "code",
      "metadata": {
        "id": "rxGyNYO-_Rw6"
      },
      "source": [
        "bisect.insort(sorted_list, num)"
      ],
      "execution_count": null,
      "outputs": []
    },
    {
      "cell_type": "code",
      "metadata": {
        "colab": {
          "base_uri": "https://localhost:8080/"
        },
        "id": "24aYjr-U_Vjh",
        "outputId": "2b576ae4-697a-4714-cc74-520edec8f038"
      },
      "source": [
        "bisect.bisect_left(sorted_list, num, lo=0, hi=4)"
      ],
      "execution_count": null,
      "outputs": [
        {
          "output_type": "execute_result",
          "data": {
            "text/plain": [
              "4"
            ]
          },
          "metadata": {},
          "execution_count": 24
        }
      ]
    },
    {
      "cell_type": "code",
      "metadata": {
        "id": "T7gW28Qu_gpB",
        "colab": {
          "base_uri": "https://localhost:8080/"
        },
        "outputId": "986a524a-61c0-4f2f-e8d3-279ed02cee49"
      },
      "source": [
        ""
      ],
      "execution_count": null,
      "outputs": [
        {
          "output_type": "stream",
          "name": "stdout",
          "text": [
            "fatal: not a git repository (or any of the parent directories): .git\n"
          ]
        }
      ]
    },
    {
      "cell_type": "code",
      "metadata": {
        "colab": {
          "base_uri": "https://localhost:8080/"
        },
        "id": "v4PlqZ10ESmx",
        "outputId": "b41f4baf-2e2a-4725-d946-c3543757a592"
      },
      "source": [
        ""
      ],
      "execution_count": null,
      "outputs": [
        {
          "output_type": "stream",
          "name": "stdout",
          "text": [
            "Initialized empty Git repository in /content/.git/\n"
          ]
        }
      ]
    },
    {
      "cell_type": "code",
      "metadata": {
        "colab": {
          "base_uri": "https://localhost:8080/"
        },
        "id": "zSH8bqXdEehA",
        "outputId": "81d2c266-ed01-4462-8be2-c72ee7cee0a7"
      },
      "source": [
        ""
      ],
      "execution_count": null,
      "outputs": [
        {
          "output_type": "stream",
          "name": "stdout",
          "text": [
            "error: refname refs/heads/master not found\n",
            "fatal: Branch rename failed\n",
            "error: src refspec main does not match any.\n",
            "error: failed to push some refs to 'https://github.com/sw6820/Algorithm_python.git'\n"
          ]
        }
      ]
    },
    {
      "cell_type": "code",
      "metadata": {
        "id": "_00oR5S1ElSs"
      },
      "source": [
        ""
      ],
      "execution_count": null,
      "outputs": []
    }
  ]
}