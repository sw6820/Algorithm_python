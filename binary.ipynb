{
  "nbformat": 4,
  "nbformat_minor": 0,
  "metadata": {
    "colab": {
      "name": "binary.ipynb",
      "private_outputs": true,
      "provenance": [],
      "authorship_tag": "ABX9TyOglKJj4FGfTBzU7Hk7nRVU",
      "include_colab_link": true
    },
    "kernelspec": {
      "name": "python3",
      "display_name": "Python 3"
    },
    "language_info": {
      "name": "python"
    }
  },
  "cells": [
    {
      "cell_type": "markdown",
      "metadata": {
        "id": "view-in-github",
        "colab_type": "text"
      },
      "source": [
        "<a href=\"https://colab.research.google.com/github/sw6820/Algorithm_python/blob/main/binary.ipynb\" target=\"_parent\"><img src=\"https://colab.research.google.com/assets/colab-badge.svg\" alt=\"Open In Colab\"/></a>"
      ]
    },
    {
      "cell_type": "markdown",
      "metadata": {
        "id": "ADIfx2NbrMIf"
      },
      "source": [
        "[Binary-Search](https://leetcode.com/problems/binary-search)"
      ]
    },
    {
      "cell_type": "markdown",
      "metadata": {
        "id": "H3hfaixwrVa9"
      },
      "source": [
        "1. recursive"
      ]
    },
    {
      "cell_type": "code",
      "metadata": {
        "id": "gJJVk6QwhX1j"
      },
      "source": [
        "def search(self, nums: List[int], target:int) -> int:\n",
        "  def bin_search(lo, hi):\n",
        "    if lo<hi:\n",
        "      mid = (lo+hi)//2\n",
        "      if nums[mid] < target:\n",
        "        return bin_search(mid+1, right+1)\n",
        "      else nums[mid] > target:\n",
        "        return bin_search(lo, mid)      \n",
        "    else : return -1\n",
        "  return bin_search(0, len(nums))  "
      ],
      "execution_count": null,
      "outputs": []
    },
    {
      "cell_type": "markdown",
      "metadata": {
        "id": "hvO-TIZksFHP"
      },
      "source": [
        "2. for loop"
      ]
    },
    {
      "cell_type": "code",
      "metadata": {
        "id": "6xhZvFBMsHJ4"
      },
      "source": [
        "def search(self, nums: List[int], target:int) -> int:\n",
        "  lo, hi = 0, len(nums)\n",
        "  while lo<hi:\n",
        "    mid = (lo+hi)//2\n",
        "    if nums[mid]<target:\n",
        "      lo = mid+1\n",
        "    else:\n",
        "      hi = mid\n",
        "  return lo if target==lo else -1"
      ],
      "execution_count": null,
      "outputs": []
    },
    {
      "cell_type": "markdown",
      "metadata": {
        "id": "oOui-1wwskBZ"
      },
      "source": [
        "3. bisect_left"
      ]
    },
    {
      "cell_type": "code",
      "metadata": {
        "id": "rYX57dsYsmLv"
      },
      "source": [
        "import bisect\n",
        "def search(self, nums: List[int], target:int) -> int:\n",
        "  idx = bisect.bisect_left(nums, target)\n",
        "  return idx if idx<len(nums) and nums[idx]==target else -1"
      ],
      "execution_count": null,
      "outputs": []
    },
    {
      "cell_type": "markdown",
      "metadata": {
        "id": "JE9zEu-os33n"
      },
      "source": [
        "4. index"
      ]
    },
    {
      "cell_type": "code",
      "metadata": {
        "id": "YW-tJxMks8IC"
      },
      "source": [
        "def search(self, nums: List[int], target:int) -> int:\n",
        "  try : return nums.index(target)\n",
        "  except ValueError: return -1"
      ],
      "execution_count": null,
      "outputs": []
    },
    {
      "cell_type": "markdown",
      "metadata": {
        "id": "_bSeSPQ-tnwc"
      },
      "source": [
        "### binary_search overflow\n",
        "\n",
        "mid = (lo+hi)//2\n",
        "\n",
        "if lo+hi> overflow\n",
        "\n",
        "mid = lo + (hi-lo)//2\n",
        "\n",
        "mid = (2*lo + hi - lo)//2"
      ]
    },
    {
      "cell_type": "markdown",
      "metadata": {
        "id": "ELNYH7fYufEO"
      },
      "source": [
        "[two-sum-ii-input-array-is-sorted](https://leetcode.com/problems/two-sum-ii-input-array-is-sorted/)"
      ]
    },
    {
      "cell_type": "markdown",
      "metadata": {
        "id": "YHckbolevaMN"
      },
      "source": [
        "1. two pointer"
      ]
    },
    {
      "cell_type": "code",
      "metadata": {
        "id": "_zRv76IfttEw"
      },
      "source": [
        "def twoSum(self, numbers: List[int], target:int) -> List[int]:\n",
        "  lo, hi = 0, len(numbers)-1\n",
        "  while lo!=hi:\n",
        "    if numbers[lo]+nubers[hi]<target:\n",
        "      lo += 1\n",
        "    elif numbers[lo]+nubers[hi]>target:\n",
        "      hi -= 1\n",
        "    else: return lo+1, hi+1"
      ],
      "execution_count": null,
      "outputs": []
    },
    {
      "cell_type": "markdown",
      "metadata": {
        "id": "2U1i-ImyxZFP"
      },
      "source": [
        "2. binary_search"
      ]
    },
    {
      "cell_type": "code",
      "metadata": {
        "id": "X4IMCl2U0Tuw"
      },
      "source": [
        "def twoSum(self, numbers: List[int], target:int) -> List[int]:\n",
        "  for i,v in enumerate(numbers):\n",
        "    lo, hi = i+1, len(numbers)-1\n",
        "    f = target - v\n",
        "    while lo<=hi:\n",
        "      mid = lo + (hi-lo)//2\n",
        "      if numbers[mid]<f:\n",
        "        lo = mid+1\n",
        "      elif number[mid]>f:\n",
        "        hi = mid-1\n",
        "      else: return i+1, mid+1    "
      ],
      "execution_count": null,
      "outputs": []
    },
    {
      "cell_type": "markdown",
      "metadata": {
        "id": "e9x4sepa0NjF"
      },
      "source": [
        "3. bisect + slicing"
      ]
    },
    {
      "cell_type": "code",
      "metadata": {
        "id": "TFtlupHj0i02"
      },
      "source": [
        "def twoSum(self, numbers: List[int], target:int) -> List[int]:\n",
        "    for i,v in enumerate(numbers):\n",
        "      lo, hi = i+1, len(numbers)-1\n",
        "      f = target - v      \n",
        "      idx=bisect.bisect_left(numbers[i+1:], f)\n",
        "      if idx<len(numbers[i+1:]) and numbers[idx+i+1]==f:\n",
        "        return i+1, idx+1+i+1    "
      ],
      "execution_count": null,
      "outputs": []
    },
    {
      "cell_type": "markdown",
      "metadata": {
        "id": "XIPsS5Um0PKS"
      },
      "source": [
        "4. bisect + slicing minimize"
      ]
    },
    {
      "cell_type": "code",
      "metadata": {
        "id": "kSPqfbNi1P1b"
      },
      "source": [
        "def twoSum(self, numbers: List[int], target:int) -> List[int]:\n",
        "    for i,v in enumerate(numbers):\n",
        "      lo, hi = i+1, len(numbers)-1\n",
        "      f = target - v\n",
        "      nums =  numbers[i+1:]\n",
        "      idx=bisect.bisect_left(nums, f)\n",
        "      if idx<len(nums) and numbers[idx+i+1]==f:\n",
        "        return i+1, idx+1+i+1    "
      ],
      "execution_count": null,
      "outputs": []
    },
    {
      "cell_type": "markdown",
      "metadata": {
        "id": "1bGu7TWP1eq_"
      },
      "source": [
        "5. bisect + remove slicing"
      ]
    },
    {
      "cell_type": "code",
      "metadata": {
        "id": "z5VNh8Eq1h5K"
      },
      "source": [
        "def twoSum(self, numbers: List[int], target:int) -> List[int]:\n",
        "    for i,v in enumerate(numbers):\n",
        "      lo, hi = i+1, len(numbers)-1\n",
        "      f = target - v      \n",
        "      idx=bisect.bisect_left(numbers, f, i+1)\n",
        "      if idx<len(nums) and numbers[idx]==f:\n",
        "        return i+1, idx+1"
      ],
      "execution_count": null,
      "outputs": []
    }
  ]
}